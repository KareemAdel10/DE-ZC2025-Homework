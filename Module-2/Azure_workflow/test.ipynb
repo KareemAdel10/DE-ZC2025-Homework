{
 "cells": [
  {
   "cell_type": "markdown",
   "metadata": {},
   "source": [
    "# Test connection to adlsg2 using a service principal"
   ]
  },
  {
   "cell_type": "code",
   "execution_count": 8,
   "metadata": {},
   "outputs": [
    {
     "name": "stdout",
     "output_type": "stream",
     "text": [
      "taxidata\n"
     ]
    }
   ],
   "source": [
    "from azure.identity import ClientSecretCredential\n",
    "from azure.storage.filedatalake import DataLakeServiceClient\n",
    "\n",
    "# Authenticate using a service principal\n",
    "credential = ClientSecretCredential(\n",
    "    tenant_id=\"***\",\n",
    "    client_id=\"***\",\n",
    "    client_secret=\"***\"\n",
    ")\n",
    "\n",
    "# Create a DataLakeServiceClient to interact with Azure Data Lake Storage Gen2\n",
    "service_client = DataLakeServiceClient(\n",
    "    account_url=\"https://***.dfs.core.windows.net\",\n",
    "    credential=credential\n",
    ")\n",
    "\n",
    "# List file systems to test connectivity\n",
    "filesystems = service_client.list_file_systems()\n",
    "for fs in filesystems:\n",
    "    print(fs.name)"
   ]
  },
  {
   "cell_type": "markdown",
   "metadata": {},
   "source": [
    "# Test connection to synapse"
   ]
  },
  {
   "cell_type": "code",
   "execution_count": 2,
   "metadata": {},
   "outputs": [
    {
     "name": "stdout",
     "output_type": "stream",
     "text": [
      "kestrasynapseworkspace\n",
      "azuresynapsetraining\n"
     ]
    }
   ],
   "source": [
    "from azure.identity import DefaultAzureCredential\n",
    "from azure.mgmt.synapse import SynapseManagementClient\n",
    "\n",
    "# Authenticate\n",
    "credential = DefaultAzureCredential()\n",
    "subscription_id = '***'\n",
    "client = SynapseManagementClient(credential, subscription_id)\n",
    "\n",
    "# List Synapse workspaces\n",
    "workspaces = client.workspaces.list()\n",
    "for workspace in workspaces:\n",
    "    print(workspace.name)"
   ]
  },
  {
   "cell_type": "markdown",
   "metadata": {},
   "source": [
    "-----"
   ]
  },
  {
   "cell_type": "markdown",
   "metadata": {},
   "source": [
    "# Create main monthly table"
   ]
  },
  {
   "cell_type": "code",
   "execution_count": 39,
   "metadata": {},
   "outputs": [],
   "source": [
    "import pyodbc\n",
    "from azure.identity import DefaultAzureCredential\n",
    "\n",
    "# Connection parameters\n",
    "server = \"****.sql.azuresynapse.net\"\n",
    "database = \"****\"\n",
    "username = \"****\"\n",
    "password = \"****\"\n",
    "driver = '{ODBC Driver 17 for SQL Server}'\n",
    "\n",
    "# Establish connection\n",
    "conn = pyodbc.connect(\n",
    "    f'DRIVER={driver};SERVER={server};DATABASE={database};UID={username};PWD={password}',\n",
    "    autocommit=True  # <-- Add this line\n",
    ")\n",
    "cursor = conn.cursor()\n",
    "\n",
    "create_table_sql = \"\"\"\n",
    "IF NOT EXISTS (SELECT * FROM sys.tables WHERE name = 'green_tripdata')\n",
    "CREATE TABLE green_tripdata (\n",
    "    unique_row_id VARCHAR(255) NOT NULL,\n",
    "    filename VARCHAR(255) NOT NULL,\n",
    "    VendorID VARCHAR(255),\n",
    "    lpep_pickup_datetime DATETIME2,\n",
    "    lpep_dropoff_datetime DATETIME2,\n",
    "    store_and_fwd_flag VARCHAR(255),\n",
    "    RatecodeID VARCHAR(255),\n",
    "    PULocationID VARCHAR(255),\n",
    "    DOLocationID VARCHAR(255),\n",
    "    passenger_count INT,\n",
    "    trip_distance DECIMAL(18, 2),\n",
    "    fare_amount DECIMAL(18, 2),\n",
    "    extra DECIMAL(18, 2),\n",
    "    mta_tax DECIMAL(18, 2),\n",
    "    tip_amount DECIMAL(18, 2),\n",
    "    tolls_amount DECIMAL(18, 2),\n",
    "    ehail_fee DECIMAL(18, 2),\n",
    "    improvement_surcharge DECIMAL(18, 2),\n",
    "    total_amount DECIMAL(18, 2),\n",
    "    payment_type INT,\n",
    "    trip_type VARCHAR(255),\n",
    "    congestion_surcharge DECIMAL(18, 2)\n",
    "  )\n",
    "WITH(\n",
    "      DISTRIBUTION = HASH(unique_row_id),\n",
    "      CLUSTERED COLUMNSTORE INDEX\n",
    "      );\n",
    "\"\"\"\n",
    "\n",
    "cursor.execute(create_table_sql)\n",
    "cursor.close()\n",
    "conn.close()\n"
   ]
  },
  {
   "cell_type": "markdown",
   "metadata": {},
   "source": [
    "# Create External Table"
   ]
  },
  {
   "cell_type": "code",
   "execution_count": 17,
   "metadata": {},
   "outputs": [],
   "source": [
    "import pyodbc\n",
    "\n",
    "# Connection parameters\n",
    "server = \"****.sql.azuresynapse.net\"\n",
    "database = \"****\"\n",
    "username = \"****\"\n",
    "password = \"****\"\n",
    "driver = '{ODBC Driver 17 for SQL Server}'\n",
    "\n",
    "# Establish connection with autocommit=True\n",
    "conn = pyodbc.connect(\n",
    "    f'DRIVER={driver};SERVER={server};DATABASE={database};UID={username};PWD={password}',\n",
    "    autocommit=True\n",
    ")\n",
    "cursor = conn.cursor()\n",
    "\n",
    "\n",
    "# Step 1: Create database-scoped credential\n",
    "credential_sql = \"\"\"\n",
    "IF NOT EXISTS (SELECT * FROM sys.database_scoped_credentials WHERE name = 'WorkspaceIdentity')\n",
    "CREATE DATABASE SCOPED CREDENTIAL WorkspaceIdentity\n",
    "WITH\n",
    "    IDENTITY = 'Managed Identity',\n",
    "    SECRET = '';\n",
    "\"\"\"\n",
    "cursor.execute(credential_sql)\n",
    "# cursor.close()\n",
    "# conn.close()\n",
    "\n",
    "# Step 2: Create external data source\n",
    "data_source_sql = \"\"\"\n",
    "IF NOT EXISTS (SELECT * FROM sys.external_data_sources WHERE name = 'ADLSGen2')\n",
    "CREATE EXTERNAL DATA SOURCE ADLSGen2\n",
    "WITH (\n",
    "    LOCATION = 'abfss://taxidata@kestradatalake.dfs.core.windows.net',\n",
    "    CREDENTIAL = WorkspaceIdentity  -- Reference the credential here\n",
    ");\n",
    "\"\"\"\n",
    "cursor.execute(data_source_sql)\n",
    "\n",
    "# Step 3: Create file format\n",
    "file_format_sql = \"\"\"\n",
    "IF NOT EXISTS (SELECT * FROM sys.external_file_formats WHERE name = 'CSVFormat')\n",
    "CREATE EXTERNAL FILE FORMAT CSVFormat \n",
    "WITH (\n",
    "    FORMAT_TYPE = DELIMITEDTEXT,\n",
    "    FORMAT_OPTIONS (\n",
    "        FIELD_TERMINATOR = ',',\n",
    "        FIRST_ROW = 2\n",
    "    )\n",
    ");\n",
    "\"\"\"\n",
    "cursor.execute(file_format_sql)\n",
    "\n",
    "# Step 4: Create external table\n",
    "create_external_sql = \"\"\"\n",
    "IF NOT EXISTS (SELECT * FROM sys.external_tables WHERE name = 'green_tripdata_ext')\n",
    "CREATE EXTERNAL TABLE green_tripdata_ext (\n",
    "    VendorID VARCHAR(255),\n",
    "    lpep_pickup_datetime DATETIME2,\n",
    "    lpep_dropoff_datetime DATETIME2,\n",
    "    store_and_fwd_flag VARCHAR(255),\n",
    "    RatecodeID VARCHAR(255),\n",
    "    PULocationID VARCHAR(255),\n",
    "    DOLocationID VARCHAR(255),\n",
    "    passenger_count INT,\n",
    "    trip_distance DECIMAL(18, 2),\n",
    "    fare_amount DECIMAL(18, 2),\n",
    "    extra DECIMAL(18, 2),\n",
    "    mta_tax DECIMAL(18, 2),\n",
    "    tip_amount DECIMAL(18, 2),\n",
    "    tolls_amount DECIMAL(18, 2),\n",
    "    ehail_fee DECIMAL(18, 2),\n",
    "    improvement_surcharge DECIMAL(18, 2),\n",
    "    total_amount DECIMAL(18, 2),\n",
    "    payment_type INT,\n",
    "    trip_type VARCHAR(255),\n",
    "    congestion_surcharge DECIMAL(18, 2)\n",
    ")\n",
    "WITH (\n",
    "    LOCATION = 'green_taxi/green_tripdata_2019-01.csv',\n",
    "    DATA_SOURCE = ADLSGen2,\n",
    "    FILE_FORMAT = CSVFormat\n",
    ");\n",
    "\"\"\"\n",
    "cursor.execute(create_external_sql)\n",
    "\n",
    "cursor.close()\n",
    "conn.close()"
   ]
  },
  {
   "cell_type": "markdown",
   "metadata": {},
   "source": [
    "# Merge Into main table "
   ]
  },
  {
   "cell_type": "code",
   "execution_count": null,
   "metadata": {},
   "outputs": [],
   "source": [
    "import pyodbc\n",
    "from azure.identity import DefaultAzureCredential\n",
    "\n",
    "# Connection parameters\n",
    "server = \"****.sql.azuresynapse.net\"\n",
    "database = \"****\"\n",
    "username = \"****\"\n",
    "password = \"****\"\n",
    "driver = '{ODBC Driver 17 for SQL Server}'\n",
    "\n",
    "# Establish connection with autocommit=True\n",
    "conn = pyodbc.connect(\n",
    "    f'DRIVER={driver};SERVER={server};DATABASE={database};UID={username};PWD={password}',\n",
    "    autocommit=True\n",
    ")\n",
    "cursor = conn.cursor()\n",
    "\n",
    "merge_sql = \"\"\"\n",
    "          MERGE INTO green_tripdata AS Target\n",
    "          USING (\n",
    "              SELECT \n",
    "                  CAST(HASHBYTES('MD5', \n",
    "                      CONCAT(\n",
    "                          COALESCE(VendorID, ''),\n",
    "                          COALESCE(CAST(lpep_pickup_datetime AS NVARCHAR(255)), ''),\n",
    "                          COALESCE(CAST(lpep_dropoff_datetime AS NVARCHAR(255)), ''),\n",
    "                          COALESCE(PULocationID, ''),\n",
    "                          COALESCE(DOLocationID, '')\n",
    "                      ) \n",
    "                      ) AS VARCHAR(255)\n",
    "                  ) AS unique_row_id,\n",
    "                  'green_tripdata_2019-01.csv' AS filename,\n",
    "                  *\n",
    "              FROM green_tripdata_ext\n",
    "          ) AS Source\n",
    "          ON Target.unique_row_id = Source.unique_row_id\n",
    "          WHEN NOT MATCHED THEN\n",
    "              INSERT (unique_row_id, filename, VendorID,lpep_pickup_datetime,lpep_dropoff_datetime,store_and_fwd_flag,RatecodeID,PULocationID,DOLocationID,passenger_count,trip_distance,fare_amount,extra,mta_tax,tip_amount,tolls_amount,ehail_fee,improvement_surcharge,total_amount,payment_type,trip_type,congestion_surcharge\n",
    ")\n",
    "              VALUES (Source.unique_row_id, Source.filename, source.VendorID, source.lpep_pickup_datetime, source.lpep_dropoff_datetime, source.store_and_fwd_flag, source.RatecodeID, source.PULocationID, source.DOLocationID, source.passenger_count, source.trip_distance, source.fare_amount, source.extra, source.mta_tax, source.tip_amount, source.tolls_amount, source.ehail_fee, source.improvement_surcharge, source.total_amount, source.payment_type, source.trip_type, source.congestion_surcharge);\n",
    "          \"\"\"\n",
    "cursor.execute(merge_sql)\n",
    "\n",
    "truncate_sql = \"TRUNCATE TABLE green_tripdata_ext\"\n",
    "cursor.execute(truncate_sql)\n",
    "\n",
    "cursor.close()\n",
    "conn.close()\n"
   ]
  },
  {
   "cell_type": "markdown",
   "metadata": {},
   "source": [
    "# Modify database objects"
   ]
  },
  {
   "cell_type": "code",
   "execution_count": 10,
   "metadata": {},
   "outputs": [
    {
     "data": {
      "text/plain": [
       "<pyodbc.Cursor at 0x26712cffdb0>"
      ]
     },
     "execution_count": 10,
     "metadata": {},
     "output_type": "execute_result"
    }
   ],
   "source": [
    "import pyodbc\n",
    "from azure.identity import DefaultAzureCredential\n",
    "\n",
    "# Connection parameters\n",
    "server = \"****.sql.azuresynapse.net\"\n",
    "database = \"****\"\n",
    "username = \"****\"\n",
    "password = \"****\"\n",
    "driver = '{ODBC Driver 17 for SQL Server}'\n",
    "\n",
    "# Establish connection with autocommit=True\n",
    "conn = pyodbc.connect(\n",
    "    f'DRIVER={driver};SERVER={server};DATABASE={database};UID={username};PWD={password}',\n",
    "    autocommit=True\n",
    ")\n",
    "cursor = conn.cursor()\n",
    "\n",
    "\n",
    "alter_unique_id_data_type_sql = \"DROP TABLE yellow_tripdata\"\n",
    "\n",
    "cursor.execute(alter_unique_id_data_type_sql)"
   ]
  },
  {
   "cell_type": "code",
   "execution_count": null,
   "metadata": {},
   "outputs": [],
   "source": []
  }
 ],
 "metadata": {
  "kernelspec": {
   "display_name": "Python 3 (ipykernel)",
   "language": "python",
   "name": "python3"
  },
  "language_info": {
   "codemirror_mode": {
    "name": "ipython",
    "version": 3
   },
   "file_extension": ".py",
   "mimetype": "text/x-python",
   "name": "python",
   "nbconvert_exporter": "python",
   "pygments_lexer": "ipython3",
   "version": "3.10.9"
  }
 },
 "nbformat": 4,
 "nbformat_minor": 2
}
